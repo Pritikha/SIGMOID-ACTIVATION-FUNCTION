{
  "nbformat": 4,
  "nbformat_minor": 0,
  "metadata": {
    "colab": {
      "name": "ex5.ipynb",
      "provenance": []
    },
    "kernelspec": {
      "name": "python3",
      "display_name": "Python 3"
    },
    "language_info": {
      "name": "python"
    }
  },
  "cells": [
    {
      "cell_type": "code",
      "execution_count": 1,
      "metadata": {
        "colab": {
          "base_uri": "https://localhost:8080/"
        },
        "id": "G3AsE3NAi_-b",
        "outputId": "685b893e-d96e-40b6-96d3-2790c3149765"
      },
      "outputs": [
        {
          "output_type": "stream",
          "name": "stdout",
          "text": [
            "Beginning Randomly Generated weights: \n",
            "[[-0.16595599]\n",
            " [ 0.44064899]\n",
            " [-0.99977125]]\n",
            "Ending Weights After Training\n",
            "[[10.08740896]\n",
            " [-0.20695366]\n",
            " [-4.83757835]]\n",
            "User Input One : 5\n",
            "User Input Two : 8\n",
            "User Input Three : 9\n",
            "Considering New Situation:  5 8 9\n",
            "New Output data: \n",
            "[0.9947445]\n",
            "Wow, we did it!\n"
          ]
        }
      ],
      "source": [
        "import numpy as np\n",
        "class NeuralNetwork():\n",
        "    def __init__(self):\n",
        "        np.random.seed(1)\n",
        "        self.synaptic_weights=2*np.random.random((3,1)) -1\n",
        "        \n",
        "    def sigmoid(self,x):\n",
        "        return 1/(1+np.exp(-x))\n",
        "    \n",
        "    def sigmoid_derivative(self,x):\n",
        "        return x*(1-x)\n",
        "    \n",
        "    def train(self,training_inputs,training_outputs,training_iterations):\n",
        "        \n",
        "        for iteration in range(training_iterations):\n",
        "            output=self.think(training_inputs)\n",
        "            error=training_outputs-output\n",
        "            adjustments=np.dot(training_inputs.T,error*self.sigmoid_derivative(output))\n",
        "            self.synaptic_weights += adjustments\n",
        "    def  think(self,inputs):\n",
        "        inputs=inputs.astype(float)\n",
        "        output=self.sigmoid(np.dot(inputs,self.synaptic_weights))\n",
        "        return output\n",
        "\n",
        "if __name__==\"__main__\":\n",
        "    neuron=NeuralNetwork()\n",
        "    \n",
        "    print(\"Beginning Randomly Generated weights: \")\n",
        "    print(neuron.synaptic_weights)\n",
        "    \n",
        "    training_inputs=np.array([[0,0,1],[1,1,1],[1,0,1],[0,1,1]])\n",
        "    \n",
        "    training_outputs=np.array([[0,1,1,0]]).T\n",
        "    \n",
        "    neuron.train(training_inputs,training_outputs, 15000)\n",
        "    \n",
        "    print(\"Ending Weights After Training\")\n",
        "    print(neuron.synaptic_weights)\n",
        "    \n",
        "    user_input_one=str(input(\"User Input One : \"))\n",
        "    user_input_two=str(input(\"User Input Two : \"))\n",
        "    user_input_three=str(input(\"User Input Three : \"))\n",
        "    \n",
        "    print(\"Considering New Situation: \",user_input_one, user_input_two, user_input_three)\n",
        "    print(\"New Output data: \")\n",
        "    print(neuron.think(np.array([user_input_one, user_input_two, user_input_three])))\n",
        "    print(\"Wow, we did it!\")"
      ]
    }
  ]
}